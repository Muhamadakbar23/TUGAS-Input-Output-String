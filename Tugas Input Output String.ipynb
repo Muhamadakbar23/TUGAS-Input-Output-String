{
 "cells": [
  {
   "cell_type": "markdown",
   "id": "323a078c-4dff-4e9d-871b-43d30bb9fb4b",
   "metadata": {},
   "source": [
    "<h1><B>TUGAS 5 INPUT OUTPUT</B><h1>"
   ]
  },
  {
   "cell_type": "code",
   "execution_count": 4,
   "id": "4a5a58f2-53eb-492f-aea8-fe82f11cb3e1",
   "metadata": {},
   "outputs": [
    {
     "name": "stdin",
     "output_type": "stream",
     "text": [
      "Masukan Nama:  Muhamad Akbar Iqro Adiwijaya\n",
      "Tanggal lahir:  16/Maret/2002\n",
      "Jenis kelamin:  Laki-laki\n",
      "Alamat:  Kp. Karawang Wetan No. 44 \n"
     ]
    },
    {
     "name": "stdout",
     "output_type": "stream",
     "text": [
      "output:\n",
      "Nama:Muhamad Akbar Iqro Adiwijaya Tanggal_lahir:16/Maret/2002 Jenis_kelamin:Laki-laki Alamat:Kp. Karawang Wetan No. 44 \n"
     ]
    }
   ],
   "source": [
    "Nama = input(\"Masukan Nama: \")\n",
    "Tanggal_lahir = input(\"Tanggal lahir: \")\n",
    "Jenis_kelamin = input(\"Jenis kelamin: \")\n",
    "Alamat = input(\"Alamat: \")\n",
    "\n",
    "#Output\n",
    "Biodata = \"Nama:{} Tanggal_lahir:{} Jenis_kelamin:{} Alamat:{}\".format(Nama,Tanggal_lahir,Jenis_kelamin,Alamat)\n",
    "print(\"output:\")\n",
    "print(Biodata)\n",
    "\n"
   ]
  },
  {
   "cell_type": "code",
   "execution_count": 10,
   "id": "b4525d94-ea2e-49be-9ca3-6c3e885285f5",
   "metadata": {},
   "outputs": [
    {
     "name": "stdout",
     "output_type": "stream",
     "text": [
      "putra nusa \n",
      "NIVERSITAS NSA PTRA SKABUMI\n",
      "SUKABUMI PUTRA NUSA UNIVERSITAS \n",
      "UNPS\n",
      "TAS SAPU BUMI\n"
     ]
    }
   ],
   "source": [
    "univ =\"UNIVERSITAS NUSA PUTRA SUKABUMI\" \n",
    "kalimat1 =univ.lower ()\n",
    "print (kalimat1[17:22],kalimat1[12:17])\n",
    "kalimat2 = univ.upper ()\n",
    "print (kalimat2[1:11],kalimat2[12]+kalimat2[14:16],kalimat2[17]+kalimat2[19:22],kalimat2[23]+kalimat2[25:31])\n",
    "kalimat3 = univ.upper ()\n",
    "print(kalimat3[23:31],kalimat3[17:22],kalimat3[12:16],univ [0:12])\n",
    "kalimat4 = univ.upper ()\n",
    "print (kalimat3[0]+kalimat3[12]+kalimat3[17]+kalimat3[23])\n",
    "kalimat4 = univ.upper ()\n",
    "print (kalimat4[8:11],kalimat4[14:16]+kalimat4[17:19],kalimat4[27:])"
   ]
  }
 ],
 "metadata": {
  "kernelspec": {
   "display_name": "Python 3 (ipykernel)",
   "language": "python",
   "name": "python3"
  },
  "language_info": {
   "codemirror_mode": {
    "name": "ipython",
    "version": 3
   },
   "file_extension": ".py",
   "mimetype": "text/x-python",
   "name": "python",
   "nbconvert_exporter": "python",
   "pygments_lexer": "ipython3",
   "version": "3.11.7"
  }
 },
 "nbformat": 4,
 "nbformat_minor": 5
}
